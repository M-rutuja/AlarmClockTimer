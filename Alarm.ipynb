{
 "cells": [
  {
   "cell_type": "code",
   "execution_count": 16,
   "id": "131b910e-da56-48cb-9cdc-d8d1dab6ed33",
   "metadata": {},
   "outputs": [],
   "source": [
    "#Alarm-Fast-A1-www.fesliyanstudios.com"
   ]
  },
  {
   "cell_type": "code",
   "execution_count": 21,
   "id": "08e92445-f69f-47d9-bbd7-2180344b621f",
   "metadata": {
    "scrolled": true
   },
   "outputs": [
    {
     "name": "stdin",
     "output_type": "stream",
     "text": [
      "How many minutes to wait:  0\n",
      "How many seconds to wait:  5\n"
     ]
    },
    {
     "name": "stdout",
     "output_type": "stream",
     "text": [
      "\u001b[2J\n",
      "\u001b[HAlarm will be sound in: 00:00\r"
     ]
    }
   ],
   "source": [
    "import os\n",
    "from playsound import playsound\n",
    "import time\n",
    "CLEAR = \"\\033[2J\"\n",
    "CLEAR_AND_RETURN = \"\\033[H\"\n",
    "\n",
    "def alarm(seconds):\n",
    "    time_elapsed = 0\n",
    "\n",
    "    print(CLEAR)\n",
    "    while time_elapsed < seconds:\n",
    "        time.sleep(1)\n",
    "        time_elapsed += 1\n",
    "\n",
    "        time_left = seconds - time_elapsed\n",
    "        minutes_left = time_left // 60\n",
    "        seconds_left = time_left % 60\n",
    "\n",
    "        print(f\"{CLEAR_AND_RETURN}Alarm will be sound in: {minutes_left:02d}:{seconds_left:02d}\" , end='\\r')\n",
    "    \n",
    "    audio_file_path = os.path.abspath('alarm.mp3')\n",
    "    os.startfile(r\"C:\\Users\\Datta\\Downloads\\PythonWork\\python practice\\alarm clocktimer\\alarm.mp3\")\n",
    "    #playsound(r\"C:\\Users\\Datta\\Downloads\\PythonWork\\python practice\\alarm clocktimer\\alarm.mp3\")\n",
    "\n",
    "\n",
    "minutes = int(input(\"How many minutes to wait: \"))\n",
    "seconds = int(input(\"How many seconds to wait: \"))\n",
    "total_seconds = minutes * 60 + seconds\n",
    "alarm(total_seconds)\n",
    "#alarm(10)\n",
    "        "
   ]
  },
  {
   "cell_type": "code",
   "execution_count": null,
   "id": "a2dd9abf-9af4-4b95-b80b-b9074d2a27c1",
   "metadata": {},
   "outputs": [],
   "source": []
  }
 ],
 "metadata": {
  "kernelspec": {
   "display_name": "Python 3 (ipykernel)",
   "language": "python",
   "name": "python3"
  },
  "language_info": {
   "codemirror_mode": {
    "name": "ipython",
    "version": 3
   },
   "file_extension": ".py",
   "mimetype": "text/x-python",
   "name": "python",
   "nbconvert_exporter": "python",
   "pygments_lexer": "ipython3",
   "version": "3.12.2"
  }
 },
 "nbformat": 4,
 "nbformat_minor": 5
}
